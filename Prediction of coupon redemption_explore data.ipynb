{
 "cells": [
  {
   "cell_type": "code",
   "execution_count": 1,
   "id": "90f5abcf",
   "metadata": {},
   "outputs": [],
   "source": [
    "import pandas as pd\n",
    "import numpy as np\n",
    "import seaborn as sns\n",
    "import matplotlib.pyplot as plt\n",
    "from importlib import reload\n",
    "plt = reload(plt)\n",
    "from datetime import date\n",
    "import datetime as dt\n",
    "from scipy import stats\n",
    "import warnings\n",
    "warnings.filterwarnings(\"ignore\")\n",
    " \n",
    "%matplotlib inline"
   ]
  },
  {
   "cell_type": "code",
   "execution_count": 2,
   "id": "8bfc113f",
   "metadata": {},
   "outputs": [],
   "source": [
    "off_train = pd.read_csv('ccf_offline_stage1_train.csv',keep_default_na=True)\n",
    "off_train.columns = ['user_id','merchant_id','coupon_id','discount_rate','distance','date_received','date']\n",
    "off_test = pd.read_csv('ccf_offline_stage1_test_revised.csv',keep_default_na=True)\n",
    "off_test.columns = ['user_id','merchant_id','coupon_id','discount_rate','distance','date_received']\n",
    "on_train = pd.read_csv('ccf_online_stage1_train.csv',keep_default_na=True)\n",
    "on_train.columns = ['user_id','merchant_id','action','coupon_id','discount_rate','date_received','date']\n",
    "off_train[['user_id','merchant_id','coupon_id']] = off_train[['user_id','merchant_id','coupon_id']].astype(str)\n",
    "off_test[['user_id','merchant_id','coupon_id']] = off_test[['user_id','merchant_id','coupon_id']].astype(str)\n",
    "on_train[['user_id','merchant_id','coupon_id']] = on_train[['user_id','merchant_id','coupon_id']].astype(str)"
   ]
  },
  {
   "cell_type": "code",
   "execution_count": 3,
   "id": "17bcbb2a",
   "metadata": {},
   "outputs": [
    {
     "data": {
      "text/html": [
       "<div>\n",
       "<style scoped>\n",
       "    .dataframe tbody tr th:only-of-type {\n",
       "        vertical-align: middle;\n",
       "    }\n",
       "\n",
       "    .dataframe tbody tr th {\n",
       "        vertical-align: top;\n",
       "    }\n",
       "\n",
       "    .dataframe thead th {\n",
       "        text-align: right;\n",
       "    }\n",
       "</style>\n",
       "<table border=\"1\" class=\"dataframe\">\n",
       "  <thead>\n",
       "    <tr style=\"text-align: right;\">\n",
       "      <th></th>\n",
       "      <th>user_id</th>\n",
       "      <th>merchant_id</th>\n",
       "      <th>coupon_id</th>\n",
       "      <th>discount_rate</th>\n",
       "      <th>distance</th>\n",
       "      <th>date_received</th>\n",
       "      <th>date</th>\n",
       "    </tr>\n",
       "  </thead>\n",
       "  <tbody>\n",
       "    <tr>\n",
       "      <th>0</th>\n",
       "      <td>1439408</td>\n",
       "      <td>2632</td>\n",
       "      <td>nan</td>\n",
       "      <td>NaN</td>\n",
       "      <td>0.0</td>\n",
       "      <td>NaN</td>\n",
       "      <td>20160217.0</td>\n",
       "    </tr>\n",
       "    <tr>\n",
       "      <th>1</th>\n",
       "      <td>1439408</td>\n",
       "      <td>4663</td>\n",
       "      <td>11002.0</td>\n",
       "      <td>150:20</td>\n",
       "      <td>1.0</td>\n",
       "      <td>20160528.0</td>\n",
       "      <td>NaN</td>\n",
       "    </tr>\n",
       "    <tr>\n",
       "      <th>2</th>\n",
       "      <td>1439408</td>\n",
       "      <td>2632</td>\n",
       "      <td>8591.0</td>\n",
       "      <td>20:1</td>\n",
       "      <td>0.0</td>\n",
       "      <td>20160217.0</td>\n",
       "      <td>NaN</td>\n",
       "    </tr>\n",
       "    <tr>\n",
       "      <th>3</th>\n",
       "      <td>1439408</td>\n",
       "      <td>2632</td>\n",
       "      <td>1078.0</td>\n",
       "      <td>20:1</td>\n",
       "      <td>0.0</td>\n",
       "      <td>20160319.0</td>\n",
       "      <td>NaN</td>\n",
       "    </tr>\n",
       "    <tr>\n",
       "      <th>4</th>\n",
       "      <td>1439408</td>\n",
       "      <td>2632</td>\n",
       "      <td>8591.0</td>\n",
       "      <td>20:1</td>\n",
       "      <td>0.0</td>\n",
       "      <td>20160613.0</td>\n",
       "      <td>NaN</td>\n",
       "    </tr>\n",
       "  </tbody>\n",
       "</table>\n",
       "</div>"
      ],
      "text/plain": [
       "   user_id merchant_id coupon_id discount_rate  distance  date_received  \\\n",
       "0  1439408        2632       nan           NaN       0.0            NaN   \n",
       "1  1439408        4663   11002.0        150:20       1.0     20160528.0   \n",
       "2  1439408        2632    8591.0          20:1       0.0     20160217.0   \n",
       "3  1439408        2632    1078.0          20:1       0.0     20160319.0   \n",
       "4  1439408        2632    8591.0          20:1       0.0     20160613.0   \n",
       "\n",
       "         date  \n",
       "0  20160217.0  \n",
       "1         NaN  \n",
       "2         NaN  \n",
       "3         NaN  \n",
       "4         NaN  "
      ]
     },
     "execution_count": 3,
     "metadata": {},
     "output_type": "execute_result"
    }
   ],
   "source": [
    "off_train.head()"
   ]
  },
  {
   "cell_type": "code",
   "execution_count": 4,
   "id": "17cea4fa",
   "metadata": {},
   "outputs": [
    {
     "data": {
      "text/html": [
       "<div>\n",
       "<style scoped>\n",
       "    .dataframe tbody tr th:only-of-type {\n",
       "        vertical-align: middle;\n",
       "    }\n",
       "\n",
       "    .dataframe tbody tr th {\n",
       "        vertical-align: top;\n",
       "    }\n",
       "\n",
       "    .dataframe thead th {\n",
       "        text-align: right;\n",
       "    }\n",
       "</style>\n",
       "<table border=\"1\" class=\"dataframe\">\n",
       "  <thead>\n",
       "    <tr style=\"text-align: right;\">\n",
       "      <th></th>\n",
       "      <th>user_id</th>\n",
       "      <th>merchant_id</th>\n",
       "      <th>action</th>\n",
       "      <th>coupon_id</th>\n",
       "      <th>discount_rate</th>\n",
       "      <th>date_received</th>\n",
       "      <th>date</th>\n",
       "    </tr>\n",
       "  </thead>\n",
       "  <tbody>\n",
       "    <tr>\n",
       "      <th>0</th>\n",
       "      <td>13740231</td>\n",
       "      <td>18907</td>\n",
       "      <td>2</td>\n",
       "      <td>100017492</td>\n",
       "      <td>500:50</td>\n",
       "      <td>20160513.0</td>\n",
       "      <td>NaN</td>\n",
       "    </tr>\n",
       "    <tr>\n",
       "      <th>1</th>\n",
       "      <td>13740231</td>\n",
       "      <td>34805</td>\n",
       "      <td>1</td>\n",
       "      <td>nan</td>\n",
       "      <td>NaN</td>\n",
       "      <td>NaN</td>\n",
       "      <td>20160321.0</td>\n",
       "    </tr>\n",
       "    <tr>\n",
       "      <th>2</th>\n",
       "      <td>14336199</td>\n",
       "      <td>18907</td>\n",
       "      <td>0</td>\n",
       "      <td>nan</td>\n",
       "      <td>NaN</td>\n",
       "      <td>NaN</td>\n",
       "      <td>20160618.0</td>\n",
       "    </tr>\n",
       "    <tr>\n",
       "      <th>3</th>\n",
       "      <td>14336199</td>\n",
       "      <td>18907</td>\n",
       "      <td>0</td>\n",
       "      <td>nan</td>\n",
       "      <td>NaN</td>\n",
       "      <td>NaN</td>\n",
       "      <td>20160618.0</td>\n",
       "    </tr>\n",
       "    <tr>\n",
       "      <th>4</th>\n",
       "      <td>14336199</td>\n",
       "      <td>18907</td>\n",
       "      <td>0</td>\n",
       "      <td>nan</td>\n",
       "      <td>NaN</td>\n",
       "      <td>NaN</td>\n",
       "      <td>20160618.0</td>\n",
       "    </tr>\n",
       "  </tbody>\n",
       "</table>\n",
       "</div>"
      ],
      "text/plain": [
       "    user_id merchant_id  action  coupon_id discount_rate  date_received  \\\n",
       "0  13740231       18907       2  100017492        500:50     20160513.0   \n",
       "1  13740231       34805       1        nan           NaN            NaN   \n",
       "2  14336199       18907       0        nan           NaN            NaN   \n",
       "3  14336199       18907       0        nan           NaN            NaN   \n",
       "4  14336199       18907       0        nan           NaN            NaN   \n",
       "\n",
       "         date  \n",
       "0         NaN  \n",
       "1  20160321.0  \n",
       "2  20160618.0  \n",
       "3  20160618.0  \n",
       "4  20160618.0  "
      ]
     },
     "execution_count": 4,
     "metadata": {},
     "output_type": "execute_result"
    }
   ],
   "source": [
    "on_train.head()"
   ]
  },
  {
   "cell_type": "code",
   "execution_count": 5,
   "id": "ed685fe6",
   "metadata": {},
   "outputs": [
    {
     "data": {
      "text/html": [
       "<div>\n",
       "<style scoped>\n",
       "    .dataframe tbody tr th:only-of-type {\n",
       "        vertical-align: middle;\n",
       "    }\n",
       "\n",
       "    .dataframe tbody tr th {\n",
       "        vertical-align: top;\n",
       "    }\n",
       "\n",
       "    .dataframe thead th {\n",
       "        text-align: right;\n",
       "    }\n",
       "</style>\n",
       "<table border=\"1\" class=\"dataframe\">\n",
       "  <thead>\n",
       "    <tr style=\"text-align: right;\">\n",
       "      <th></th>\n",
       "      <th>user_id</th>\n",
       "      <th>merchant_id</th>\n",
       "      <th>coupon_id</th>\n",
       "      <th>discount_rate</th>\n",
       "      <th>distance</th>\n",
       "      <th>date_received</th>\n",
       "    </tr>\n",
       "  </thead>\n",
       "  <tbody>\n",
       "    <tr>\n",
       "      <th>0</th>\n",
       "      <td>4129537</td>\n",
       "      <td>450</td>\n",
       "      <td>9983</td>\n",
       "      <td>30:5</td>\n",
       "      <td>1.0</td>\n",
       "      <td>20160712</td>\n",
       "    </tr>\n",
       "    <tr>\n",
       "      <th>1</th>\n",
       "      <td>6949378</td>\n",
       "      <td>1300</td>\n",
       "      <td>3429</td>\n",
       "      <td>30:5</td>\n",
       "      <td>NaN</td>\n",
       "      <td>20160706</td>\n",
       "    </tr>\n",
       "    <tr>\n",
       "      <th>2</th>\n",
       "      <td>2166529</td>\n",
       "      <td>7113</td>\n",
       "      <td>6928</td>\n",
       "      <td>200:20</td>\n",
       "      <td>5.0</td>\n",
       "      <td>20160727</td>\n",
       "    </tr>\n",
       "    <tr>\n",
       "      <th>3</th>\n",
       "      <td>2166529</td>\n",
       "      <td>7113</td>\n",
       "      <td>1808</td>\n",
       "      <td>100:10</td>\n",
       "      <td>5.0</td>\n",
       "      <td>20160727</td>\n",
       "    </tr>\n",
       "    <tr>\n",
       "      <th>4</th>\n",
       "      <td>6172162</td>\n",
       "      <td>7605</td>\n",
       "      <td>6500</td>\n",
       "      <td>30:1</td>\n",
       "      <td>2.0</td>\n",
       "      <td>20160708</td>\n",
       "    </tr>\n",
       "  </tbody>\n",
       "</table>\n",
       "</div>"
      ],
      "text/plain": [
       "   user_id merchant_id coupon_id discount_rate  distance  date_received\n",
       "0  4129537         450      9983          30:5       1.0       20160712\n",
       "1  6949378        1300      3429          30:5       NaN       20160706\n",
       "2  2166529        7113      6928        200:20       5.0       20160727\n",
       "3  2166529        7113      1808        100:10       5.0       20160727\n",
       "4  6172162        7605      6500          30:1       2.0       20160708"
      ]
     },
     "execution_count": 5,
     "metadata": {},
     "output_type": "execute_result"
    }
   ],
   "source": [
    "off_test.head()"
   ]
  },
  {
   "cell_type": "code",
   "execution_count": 6,
   "id": "50270b07",
   "metadata": {},
   "outputs": [
    {
     "name": "stdout",
     "output_type": "stream",
     "text": [
      "<class 'pandas.core.frame.DataFrame'>\n",
      "RangeIndex: 1754884 entries, 0 to 1754883\n",
      "Data columns (total 7 columns):\n",
      " #   Column         Dtype  \n",
      "---  ------         -----  \n",
      " 0   user_id        object \n",
      " 1   merchant_id    object \n",
      " 2   coupon_id      object \n",
      " 3   discount_rate  object \n",
      " 4   distance       float64\n",
      " 5   date_received  float64\n",
      " 6   date           float64\n",
      "dtypes: float64(3), object(4)\n",
      "memory usage: 93.7+ MB\n"
     ]
    }
   ],
   "source": [
    "off_train.info()"
   ]
  },
  {
   "cell_type": "markdown",
   "id": "b5bfbcb9",
   "metadata": {},
   "source": [
    "Discount_rate: range in [0,1], 'fixed' means Limited Time Offer;\n",
    "Distance (only in off_train): 500x, the distance from the nearest shop around the user for locations in which a user is most active. x range in [0,10]; 0 – less than 500 meters; 10 – more than 5 kilometres."
   ]
  },
  {
   "cell_type": "code",
   "execution_count": 7,
   "id": "d69446df",
   "metadata": {},
   "outputs": [
    {
     "name": "stdout",
     "output_type": "stream",
     "text": [
      "<class 'pandas.core.frame.DataFrame'>\n",
      "RangeIndex: 11429826 entries, 0 to 11429825\n",
      "Data columns (total 7 columns):\n",
      " #   Column         Dtype  \n",
      "---  ------         -----  \n",
      " 0   user_id        object \n",
      " 1   merchant_id    object \n",
      " 2   action         int64  \n",
      " 3   coupon_id      object \n",
      " 4   discount_rate  object \n",
      " 5   date_received  float64\n",
      " 6   date           float64\n",
      "dtypes: float64(2), int64(1), object(4)\n",
      "memory usage: 610.4+ MB\n"
     ]
    }
   ],
   "source": [
    "on_train.info()"
   ]
  },
  {
   "cell_type": "markdown",
   "id": "cabe172a",
   "metadata": {},
   "source": [
    "action (only in on_train): 0 - click, 1 - buy, 2 - getcoupon"
   ]
  },
  {
   "cell_type": "code",
   "execution_count": 8,
   "id": "5094c0f6",
   "metadata": {},
   "outputs": [
    {
     "name": "stdout",
     "output_type": "stream",
     "text": [
      "<class 'pandas.core.frame.DataFrame'>\n",
      "RangeIndex: 113640 entries, 0 to 113639\n",
      "Data columns (total 6 columns):\n",
      " #   Column         Non-Null Count   Dtype  \n",
      "---  ------         --------------   -----  \n",
      " 0   user_id        113640 non-null  object \n",
      " 1   merchant_id    113640 non-null  object \n",
      " 2   coupon_id      113640 non-null  object \n",
      " 3   discount_rate  113640 non-null  object \n",
      " 4   distance       101576 non-null  float64\n",
      " 5   date_received  113640 non-null  int64  \n",
      "dtypes: float64(1), int64(1), object(4)\n",
      "memory usage: 5.2+ MB\n"
     ]
    }
   ],
   "source": [
    "off_test.info()"
   ]
  },
  {
   "cell_type": "code",
   "execution_count": 9,
   "id": "72b9eb8f",
   "metadata": {},
   "outputs": [
    {
     "data": {
      "text/html": [
       "<div>\n",
       "<style scoped>\n",
       "    .dataframe tbody tr th:only-of-type {\n",
       "        vertical-align: middle;\n",
       "    }\n",
       "\n",
       "    .dataframe tbody tr th {\n",
       "        vertical-align: top;\n",
       "    }\n",
       "\n",
       "    .dataframe thead th {\n",
       "        text-align: right;\n",
       "    }\n",
       "</style>\n",
       "<table border=\"1\" class=\"dataframe\">\n",
       "  <thead>\n",
       "    <tr style=\"text-align: right;\">\n",
       "      <th></th>\n",
       "      <th>distance</th>\n",
       "      <th>date_received</th>\n",
       "      <th>date</th>\n",
       "    </tr>\n",
       "  </thead>\n",
       "  <tbody>\n",
       "    <tr>\n",
       "      <th>count</th>\n",
       "      <td>1.648881e+06</td>\n",
       "      <td>1.053282e+06</td>\n",
       "      <td>7.769840e+05</td>\n",
       "    </tr>\n",
       "    <tr>\n",
       "      <th>mean</th>\n",
       "      <td>2.361636e+00</td>\n",
       "      <td>2.016032e+07</td>\n",
       "      <td>2.016040e+07</td>\n",
       "    </tr>\n",
       "    <tr>\n",
       "      <th>std</th>\n",
       "      <td>3.483974e+00</td>\n",
       "      <td>1.771416e+02</td>\n",
       "      <td>1.621500e+02</td>\n",
       "    </tr>\n",
       "    <tr>\n",
       "      <th>min</th>\n",
       "      <td>0.000000e+00</td>\n",
       "      <td>2.016010e+07</td>\n",
       "      <td>2.016010e+07</td>\n",
       "    </tr>\n",
       "    <tr>\n",
       "      <th>25%</th>\n",
       "      <td>0.000000e+00</td>\n",
       "      <td>2.016013e+07</td>\n",
       "      <td>2.016031e+07</td>\n",
       "    </tr>\n",
       "    <tr>\n",
       "      <th>50%</th>\n",
       "      <td>0.000000e+00</td>\n",
       "      <td>2.016032e+07</td>\n",
       "      <td>2.016042e+07</td>\n",
       "    </tr>\n",
       "    <tr>\n",
       "      <th>75%</th>\n",
       "      <td>3.000000e+00</td>\n",
       "      <td>2.016051e+07</td>\n",
       "      <td>2.016052e+07</td>\n",
       "    </tr>\n",
       "    <tr>\n",
       "      <th>max</th>\n",
       "      <td>1.000000e+01</td>\n",
       "      <td>2.016062e+07</td>\n",
       "      <td>2.016063e+07</td>\n",
       "    </tr>\n",
       "  </tbody>\n",
       "</table>\n",
       "</div>"
      ],
      "text/plain": [
       "           distance  date_received          date\n",
       "count  1.648881e+06   1.053282e+06  7.769840e+05\n",
       "mean   2.361636e+00   2.016032e+07  2.016040e+07\n",
       "std    3.483974e+00   1.771416e+02  1.621500e+02\n",
       "min    0.000000e+00   2.016010e+07  2.016010e+07\n",
       "25%    0.000000e+00   2.016013e+07  2.016031e+07\n",
       "50%    0.000000e+00   2.016032e+07  2.016042e+07\n",
       "75%    3.000000e+00   2.016051e+07  2.016052e+07\n",
       "max    1.000000e+01   2.016062e+07  2.016063e+07"
      ]
     },
     "execution_count": 9,
     "metadata": {},
     "output_type": "execute_result"
    }
   ],
   "source": [
    "off_train.describe()"
   ]
  },
  {
   "cell_type": "code",
   "execution_count": 10,
   "id": "5a75db0f",
   "metadata": {},
   "outputs": [
    {
     "data": {
      "text/html": [
       "<div>\n",
       "<style scoped>\n",
       "    .dataframe tbody tr th:only-of-type {\n",
       "        vertical-align: middle;\n",
       "    }\n",
       "\n",
       "    .dataframe tbody tr th {\n",
       "        vertical-align: top;\n",
       "    }\n",
       "\n",
       "    .dataframe thead th {\n",
       "        text-align: right;\n",
       "    }\n",
       "</style>\n",
       "<table border=\"1\" class=\"dataframe\">\n",
       "  <thead>\n",
       "    <tr style=\"text-align: right;\">\n",
       "      <th></th>\n",
       "      <th>action</th>\n",
       "      <th>date_received</th>\n",
       "      <th>date</th>\n",
       "    </tr>\n",
       "  </thead>\n",
       "  <tbody>\n",
       "    <tr>\n",
       "      <th>count</th>\n",
       "      <td>1.142983e+07</td>\n",
       "      <td>8.723570e+05</td>\n",
       "      <td>1.077393e+07</td>\n",
       "    </tr>\n",
       "    <tr>\n",
       "      <th>mean</th>\n",
       "      <td>2.348193e-01</td>\n",
       "      <td>2.016037e+07</td>\n",
       "      <td>2.016039e+07</td>\n",
       "    </tr>\n",
       "    <tr>\n",
       "      <th>std</th>\n",
       "      <td>5.426314e-01</td>\n",
       "      <td>1.560031e+02</td>\n",
       "      <td>1.732371e+02</td>\n",
       "    </tr>\n",
       "    <tr>\n",
       "      <th>min</th>\n",
       "      <td>0.000000e+00</td>\n",
       "      <td>2.016010e+07</td>\n",
       "      <td>2.016010e+07</td>\n",
       "    </tr>\n",
       "    <tr>\n",
       "      <th>25%</th>\n",
       "      <td>0.000000e+00</td>\n",
       "      <td>2.016023e+07</td>\n",
       "      <td>2.016023e+07</td>\n",
       "    </tr>\n",
       "    <tr>\n",
       "      <th>50%</th>\n",
       "      <td>0.000000e+00</td>\n",
       "      <td>2.016040e+07</td>\n",
       "      <td>2.016041e+07</td>\n",
       "    </tr>\n",
       "    <tr>\n",
       "      <th>75%</th>\n",
       "      <td>0.000000e+00</td>\n",
       "      <td>2.016051e+07</td>\n",
       "      <td>2.016052e+07</td>\n",
       "    </tr>\n",
       "    <tr>\n",
       "      <th>max</th>\n",
       "      <td>2.000000e+00</td>\n",
       "      <td>2.016062e+07</td>\n",
       "      <td>2.016063e+07</td>\n",
       "    </tr>\n",
       "  </tbody>\n",
       "</table>\n",
       "</div>"
      ],
      "text/plain": [
       "             action  date_received          date\n",
       "count  1.142983e+07   8.723570e+05  1.077393e+07\n",
       "mean   2.348193e-01   2.016037e+07  2.016039e+07\n",
       "std    5.426314e-01   1.560031e+02  1.732371e+02\n",
       "min    0.000000e+00   2.016010e+07  2.016010e+07\n",
       "25%    0.000000e+00   2.016023e+07  2.016023e+07\n",
       "50%    0.000000e+00   2.016040e+07  2.016041e+07\n",
       "75%    0.000000e+00   2.016051e+07  2.016052e+07\n",
       "max    2.000000e+00   2.016062e+07  2.016063e+07"
      ]
     },
     "execution_count": 10,
     "metadata": {},
     "output_type": "execute_result"
    }
   ],
   "source": [
    "on_train.describe()"
   ]
  },
  {
   "cell_type": "code",
   "execution_count": 11,
   "id": "985cb88d",
   "metadata": {},
   "outputs": [
    {
     "data": {
      "text/html": [
       "<div>\n",
       "<style scoped>\n",
       "    .dataframe tbody tr th:only-of-type {\n",
       "        vertical-align: middle;\n",
       "    }\n",
       "\n",
       "    .dataframe tbody tr th {\n",
       "        vertical-align: top;\n",
       "    }\n",
       "\n",
       "    .dataframe thead th {\n",
       "        text-align: right;\n",
       "    }\n",
       "</style>\n",
       "<table border=\"1\" class=\"dataframe\">\n",
       "  <thead>\n",
       "    <tr style=\"text-align: right;\">\n",
       "      <th></th>\n",
       "      <th>distance</th>\n",
       "      <th>date_received</th>\n",
       "    </tr>\n",
       "  </thead>\n",
       "  <tbody>\n",
       "    <tr>\n",
       "      <th>count</th>\n",
       "      <td>101576.000000</td>\n",
       "      <td>1.136400e+05</td>\n",
       "    </tr>\n",
       "    <tr>\n",
       "      <th>mean</th>\n",
       "      <td>2.328040</td>\n",
       "      <td>2.016072e+07</td>\n",
       "    </tr>\n",
       "    <tr>\n",
       "      <th>std</th>\n",
       "      <td>3.260755</td>\n",
       "      <td>9.019508e+00</td>\n",
       "    </tr>\n",
       "    <tr>\n",
       "      <th>min</th>\n",
       "      <td>0.000000</td>\n",
       "      <td>2.016070e+07</td>\n",
       "    </tr>\n",
       "    <tr>\n",
       "      <th>25%</th>\n",
       "      <td>0.000000</td>\n",
       "      <td>2.016071e+07</td>\n",
       "    </tr>\n",
       "    <tr>\n",
       "      <th>50%</th>\n",
       "      <td>1.000000</td>\n",
       "      <td>2.016072e+07</td>\n",
       "    </tr>\n",
       "    <tr>\n",
       "      <th>75%</th>\n",
       "      <td>3.000000</td>\n",
       "      <td>2.016072e+07</td>\n",
       "    </tr>\n",
       "    <tr>\n",
       "      <th>max</th>\n",
       "      <td>10.000000</td>\n",
       "      <td>2.016073e+07</td>\n",
       "    </tr>\n",
       "  </tbody>\n",
       "</table>\n",
       "</div>"
      ],
      "text/plain": [
       "            distance  date_received\n",
       "count  101576.000000   1.136400e+05\n",
       "mean        2.328040   2.016072e+07\n",
       "std         3.260755   9.019508e+00\n",
       "min         0.000000   2.016070e+07\n",
       "25%         0.000000   2.016071e+07\n",
       "50%         1.000000   2.016072e+07\n",
       "75%         3.000000   2.016072e+07\n",
       "max        10.000000   2.016073e+07"
      ]
     },
     "execution_count": 11,
     "metadata": {},
     "output_type": "execute_result"
    }
   ],
   "source": [
    "off_test.describe()"
   ]
  },
  {
   "cell_type": "code",
   "execution_count": 12,
   "id": "7f1ebbab",
   "metadata": {},
   "outputs": [
    {
     "data": {
      "text/plain": [
       "user_id               0\n",
       "merchant_id           0\n",
       "coupon_id             0\n",
       "discount_rate    701602\n",
       "distance         106003\n",
       "date_received    701602\n",
       "date             977900\n",
       "dtype: int64"
      ]
     },
     "execution_count": 12,
     "metadata": {},
     "output_type": "execute_result"
    }
   ],
   "source": [
    "off_train.isnull().sum()"
   ]
  },
  {
   "cell_type": "code",
   "execution_count": 13,
   "id": "139af169",
   "metadata": {},
   "outputs": [
    {
     "data": {
      "text/plain": [
       "user_id                 0\n",
       "merchant_id             0\n",
       "action                  0\n",
       "coupon_id               0\n",
       "discount_rate    10557469\n",
       "date_received    10557469\n",
       "date               655898\n",
       "dtype: int64"
      ]
     },
     "execution_count": 13,
     "metadata": {},
     "output_type": "execute_result"
    }
   ],
   "source": [
    "on_train.isnull().sum()"
   ]
  },
  {
   "cell_type": "code",
   "execution_count": 14,
   "id": "56059679",
   "metadata": {},
   "outputs": [
    {
     "data": {
      "text/plain": [
       "user_id              0\n",
       "merchant_id          0\n",
       "coupon_id            0\n",
       "discount_rate        0\n",
       "distance         12064\n",
       "date_received        0\n",
       "dtype: int64"
      ]
     },
     "execution_count": 14,
     "metadata": {},
     "output_type": "execute_result"
    }
   ],
   "source": [
    "off_test.isnull().sum()"
   ]
  },
  {
   "cell_type": "code",
   "execution_count": 15,
   "id": "a50cee79",
   "metadata": {},
   "outputs": [],
   "source": [
    "# find the range of date of the data\n",
    "off_train = pd.read_csv('ccf_offline_stage1_train.csv',keep_default_na=False)\n",
    "off_train.columns = ['user_id','merchant_id','coupon_id','discount_rate','distance','date_received','date']\n",
    "off_test = pd.read_csv('ccf_offline_stage1_test_revised.csv',keep_default_na=False)\n",
    "off_test.columns = ['user_id','merchant_id','coupon_id','discount_rate','distance','date_received']\n",
    "on_train = pd.read_csv('ccf_online_stage1_train.csv',keep_default_na=False)\n",
    "on_train.columns = ['user_id','merchant_id','action','coupon_id','discount_rate','date_received','date']\n",
    "off_train[['user_id','merchant_id','coupon_id']] = off_train[['user_id','merchant_id','coupon_id']].astype(str)\n",
    "off_test[['user_id','merchant_id','coupon_id']] = off_test[['user_id','merchant_id','coupon_id']].astype(str)\n",
    "on_train[['user_id','merchant_id','coupon_id']] = on_train[['user_id','merchant_id','coupon_id']].astype(str)"
   ]
  },
  {
   "cell_type": "code",
   "execution_count": 16,
   "id": "904ac8be",
   "metadata": {},
   "outputs": [
    {
     "name": "stdout",
     "output_type": "stream",
     "text": [
      "offline train date_received\n",
      "20160101\n",
      "20160615\n",
      "online train date_received\n",
      "20160101\n",
      "20160615\n",
      "test date_received\n",
      "20160701\n",
      "20160731\n"
     ]
    }
   ],
   "source": [
    "print('offline train date_received')\n",
    "print(off_train[off_train['date_received']!='null']['date_received'].min())\n",
    "print(off_train[off_train['date_received']!='null']['date_received'].max())\n",
    "\n",
    "print('online train date_received')\n",
    "print(on_train[on_train['date_received']!='null']['date_received'].min())\n",
    "print(on_train[on_train['date_received']!='null']['date_received'].max())\n",
    "\n",
    "print('test date_received')\n",
    "print(off_test['date_received'].min())\n",
    "print(off_test['date_received'].max())"
   ]
  },
  {
   "cell_type": "code",
   "execution_count": 17,
   "id": "55c3a069",
   "metadata": {},
   "outputs": [
    {
     "name": "stdout",
     "output_type": "stream",
     "text": [
      "offline train date\n",
      "20160101\n",
      "20160630\n",
      "online train date\n",
      "20160101\n",
      "20160630\n"
     ]
    }
   ],
   "source": [
    "print('offline train date')\n",
    "print(off_train[off_train['date']!='null']['date'].min())\n",
    "print(off_train[off_train['date']!='null']['date'].max())\n",
    "\n",
    "print('online train date')\n",
    "print(on_train[on_train['date']!='null']['date'].min())\n",
    "print(on_train[on_train['date']!='null']['date'].max())"
   ]
  },
  {
   "cell_type": "code",
   "execution_count": 18,
   "id": "26a0298c",
   "metadata": {},
   "outputs": [
    {
     "name": "stdout",
     "output_type": "stream",
     "text": [
      "offline training set, number of user_ids\n",
      "539438\n",
      "online training set, number of user_ids\n",
      "762858\n",
      "offline testing set, number of user_ids\n",
      "76309\n",
      "offline training set and testing set, number of repeated user_ids\n",
      "76307.0\n",
      "offline training set and testing set, number of repeated user_ids over number of user_ids in the testing set\n",
      "0.9999737907717308\n",
      "online training set and testing set, number of repeated user_ids\n",
      "43155.0\n",
      "online training set and testing set, number of repeated user_ids over number of user_ids in the testing set\n",
      "0.5655296229802513\n"
     ]
    }
   ],
   "source": [
    "# check the user_id in online/offline training set and testing set\n",
    "off_train_user = off_train[['user_id']].copy().drop_duplicates()\n",
    "off_test_user = off_test[['user_id']].copy().drop_duplicates()\n",
    "on_train_user = on_train[['user_id']].copy().drop_duplicates()\n",
    "print ('offline training set, number of user_ids')\n",
    "print (off_train_user.user_id.count())\n",
    "print ('online training set, number of user_ids')\n",
    "print (on_train_user.user_id.count())\n",
    "print ('offline testing set, number of user_ids')\n",
    "print (off_test_user.user_id.count())\n",
    "off_train_user['off_train_flag'] = 1\n",
    "off_merge = off_test_user.merge(off_train_user,on='user_id', how=\"left\").reset_index().fillna(0)\n",
    "print ('offline training set and testing set, number of repeated user_ids')\n",
    "print(off_merge['off_train_flag'].sum())\n",
    "print ('offline training set and testing set, number of repeated user_ids over number of user_ids in the testing set')\n",
    "print(off_merge['off_train_flag'].sum() / off_merge['off_train_flag'].count())\n",
    "on_train_user['on_train_flag'] = 1\n",
    "on_merge = off_test_user.merge(on_train_user,on = 'user_id', how = \"left\").reset_index().fillna(0)\n",
    "print ('online training set and testing set, number of repeated user_ids')\n",
    "print(on_merge['on_train_flag'].sum())\n",
    "print ('online training set and testing set, number of repeated user_ids over number of user_ids in the testing set')\n",
    "print(on_merge['on_train_flag'].sum()/on_merge['on_train_flag'].count())"
   ]
  },
  {
   "cell_type": "code",
   "execution_count": 19,
   "id": "c9eb2da0",
   "metadata": {},
   "outputs": [
    {
     "name": "stdout",
     "output_type": "stream",
     "text": [
      "offline training set, number of merchant_ids\n",
      "8415\n",
      "online training set, number of merchant_ids\n",
      "7999\n",
      "offline testing set, number of merchant_ids\n",
      "1559\n",
      "offline training set and testing set, number of repeated merchant_ids\n",
      "1558.0\n",
      "offline training set and testing set, number of repeated merchant_ids over number of merchant_ids in the testing set\n",
      "0.9993585631815266\n",
      "online training set and testing set, number of repeated merchant_ids\n",
      "0.0\n",
      "online training set and testing set, number of repeated merchant_ids over number of merchant_ids in the testing set\n",
      "0.0\n"
     ]
    }
   ],
   "source": [
    "# check the merchant_id in online/offline training set and testing set\n",
    "off_train_merchant = off_train[['merchant_id']].copy().drop_duplicates()\n",
    "off_test_merchant = off_test[['merchant_id']].copy().drop_duplicates()\n",
    "on_train_merchant = on_train[['merchant_id']].copy().drop_duplicates()\n",
    "print ('offline training set, number of merchant_ids')\n",
    "print (off_train_merchant.merchant_id.count())\n",
    "print ('online training set, number of merchant_ids')\n",
    "print (on_train_merchant.merchant_id.count())\n",
    "print ('offline testing set, number of merchant_ids')\n",
    "print (off_test_merchant.merchant_id.count())\n",
    "\n",
    "off_train_merchant['off_train_flag'] = 1\n",
    "off_merge = off_test_merchant.merge(off_train_merchant,on='merchant_id', how=\"left\").reset_index().fillna(0)\n",
    "print ('offline training set and testing set, number of repeated merchant_ids')\n",
    "print(off_merge['off_train_flag'].sum())\n",
    "print ('offline training set and testing set, number of repeated merchant_ids over number of merchant_ids in the testing set')\n",
    "print(off_merge['off_train_flag'].sum() / off_merge['off_train_flag'].count())\n",
    "\n",
    "on_train_merchant['on_train_flag'] = 1\n",
    "on_merge = off_test_merchant.merge(on_train_merchant,on='merchant_id', how=\"left\").reset_index().fillna(0)\n",
    "print ('online training set and testing set, number of repeated merchant_ids')\n",
    "print(on_merge['on_train_flag'].sum())\n",
    "print ('online training set and testing set, number of repeated merchant_ids over number of merchant_ids in the testing set')\n",
    "print(on_merge['on_train_flag'].sum() / on_merge['on_train_flag'].count())"
   ]
  },
  {
   "cell_type": "code",
   "execution_count": 20,
   "id": "ba8c22fe",
   "metadata": {},
   "outputs": [
    {
     "name": "stdout",
     "output_type": "stream",
     "text": [
      "offline training set, number of coupon_ids\n",
      "9739\n",
      "online training set, number of coupon_ids\n",
      "27748\n",
      "offline testing set, number of coupon_ids\n",
      "2050\n",
      "offline training set and testing set, number of repeated coupon_ids\n",
      "1118.0\n",
      "offline training set and testing set, number of repeated coupon_ids over number of coupon_ids in the testing set\n",
      "0.5453658536585366\n",
      "online training set and testing set, number of repeated coupon_ids\n",
      "0.0\n",
      "online training set and testing set, number of repeated coupon_ids over number of coupon_ids in the testing set\n",
      "0.0\n"
     ]
    }
   ],
   "source": [
    "# check the coupon_id in online/offline training set and testing set\n",
    "off_train_coupon = off_train[['coupon_id']].copy().drop_duplicates()\n",
    "off_test_coupon = off_test[['coupon_id']].copy().drop_duplicates()\n",
    "on_train_coupon = on_train[['coupon_id']].copy().drop_duplicates()\n",
    "print ('offline training set, number of coupon_ids')\n",
    "print (off_train_coupon.coupon_id.count())\n",
    "print ('online training set, number of coupon_ids')\n",
    "print (on_train_coupon.coupon_id.count())\n",
    "print ('offline testing set, number of coupon_ids')\n",
    "print (off_test_coupon.coupon_id.count())\n",
    "\n",
    "off_train_coupon['off_train_flag'] = 1\n",
    "off_merge = off_test_coupon.merge(off_train_coupon,on='coupon_id', how=\"left\").reset_index().fillna(0)\n",
    "print ('offline training set and testing set, number of repeated coupon_ids')\n",
    "print(off_merge['off_train_flag'].sum())\n",
    "print ('offline training set and testing set, number of repeated coupon_ids over number of coupon_ids in the testing set')\n",
    "print(off_merge['off_train_flag'].sum() / off_merge['off_train_flag'].count())\n",
    "\n",
    "on_train_coupon['on_train_flag'] = 1\n",
    "on_merge = off_test_coupon.merge(on_train_coupon,on='coupon_id', how=\"left\").reset_index().fillna(0)\n",
    "print ('online training set and testing set, number of repeated coupon_ids')\n",
    "print(on_merge['on_train_flag'].sum())\n",
    "print ('online training set and testing set, number of repeated coupon_ids over number of coupon_ids in the testing set')\n",
    "print(on_merge['on_train_flag'].sum() / on_merge['on_train_flag'].count())"
   ]
  },
  {
   "cell_type": "code",
   "execution_count": 21,
   "id": "bb818976",
   "metadata": {},
   "outputs": [
    {
     "data": {
      "text/plain": [
       "null       701602\n",
       "30:5       270712\n",
       "100:10     182554\n",
       "200:20     111046\n",
       "20:5        91013\n",
       "20:1        51705\n",
       "50:5        47379\n",
       "100:30      38196\n",
       "200:30      29327\n",
       "300:30      28979\n",
       "50:10       28452\n",
       "10:5        25925\n",
       "0.95        20568\n",
       "10:1        17842\n",
       "30:1        17654\n",
       "150:20      17437\n",
       "100:20      14297\n",
       "30:10       12692\n",
       "50:20        8203\n",
       "0.9          8085\n",
       "200:50       5585\n",
       "150:10       5325\n",
       "100:5        5053\n",
       "0.8          3441\n",
       "50:1         3354\n",
       "5:1          2526\n",
       "100:50       1774\n",
       "150:30        654\n",
       "0.85          649\n",
       "200:10        575\n",
       "100:1         537\n",
       "20:10         514\n",
       "150:50        306\n",
       "300:50        206\n",
       "0.5           186\n",
       "0.75          121\n",
       "0.2           110\n",
       "0.6            58\n",
       "200:5          57\n",
       "300:20         56\n",
       "0.7            54\n",
       "30:20          24\n",
       "300:10         23\n",
       "200:100        12\n",
       "50:30           9\n",
       "150:5           7\n",
       "Name: discount_rate, dtype: int64"
      ]
     },
     "execution_count": 21,
     "metadata": {},
     "output_type": "execute_result"
    }
   ],
   "source": [
    "off_train['discount_rate'].value_counts()"
   ]
  },
  {
   "cell_type": "code",
   "execution_count": 22,
   "id": "cf23a8a3",
   "metadata": {},
   "outputs": [
    {
     "data": {
      "text/plain": [
       "30:5       59318\n",
       "20:1       11273\n",
       "50:10       7476\n",
       "20:5        7026\n",
       "200:20      5496\n",
       "30:1        4016\n",
       "10:1        3758\n",
       "100:10      3706\n",
       "50:5        2693\n",
       "100:20      2327\n",
       "0.95         991\n",
       "0.9          827\n",
       "0.8          735\n",
       "150:5        495\n",
       "100:5        467\n",
       "30:10        407\n",
       "10:5         346\n",
       "50:1         339\n",
       "200:30       258\n",
       "150:20       248\n",
       "100:30       229\n",
       "150:30       181\n",
       "5:1          171\n",
       "300:30       136\n",
       "200:50       124\n",
       "20:10        114\n",
       "50:20         97\n",
       "100:50        97\n",
       "150:50        92\n",
       "150:10        61\n",
       "30:20         32\n",
       "200:10        26\n",
       "300:50        19\n",
       "200:5         18\n",
       "100:1         14\n",
       "0.5           10\n",
       "300:20        10\n",
       "200:100        3\n",
       "0.85           1\n",
       "0.6            1\n",
       "0.7            1\n",
       "500:30         1\n",
       "Name: discount_rate, dtype: int64"
      ]
     },
     "execution_count": 22,
     "metadata": {},
     "output_type": "execute_result"
    }
   ],
   "source": [
    "off_test['discount_rate'].value_counts()"
   ]
  },
  {
   "cell_type": "code",
   "execution_count": 23,
   "id": "aecf693b",
   "metadata": {},
   "outputs": [
    {
     "data": {
      "text/plain": [
       "0       826070\n",
       "1       227221\n",
       "10      206484\n",
       "2       118413\n",
       "null    106003\n",
       "3        76598\n",
       "4        55085\n",
       "5        41452\n",
       "6        32483\n",
       "7        25681\n",
       "8        21436\n",
       "9        17958\n",
       "Name: distance, dtype: int64"
      ]
     },
     "execution_count": 23,
     "metadata": {},
     "output_type": "execute_result"
    }
   ],
   "source": [
    "off_train['distance'].value_counts()"
   ]
  },
  {
   "cell_type": "code",
   "execution_count": 24,
   "id": "7566675e",
   "metadata": {},
   "outputs": [
    {
     "data": {
      "text/plain": [
       "0       43867\n",
       "1       18474\n",
       "null    12064\n",
       "10      10353\n",
       "2        9523\n",
       "3        5934\n",
       "4        4006\n",
       "5        2977\n",
       "6        2179\n",
       "7        1685\n",
       "8        1359\n",
       "9        1219\n",
       "Name: distance, dtype: int64"
      ]
     },
     "execution_count": 24,
     "metadata": {},
     "output_type": "execute_result"
    }
   ],
   "source": [
    "off_test['distance'].value_counts()"
   ]
  },
  {
   "cell_type": "code",
   "execution_count": 25,
   "id": "49cb68c4",
   "metadata": {},
   "outputs": [],
   "source": [
    "# Convert/build basic features\n",
    "separator = ':'\n",
    "\n",
    "def get_discount_rate(s):\n",
    "    s = str(s)\n",
    "    if s == 'null':\n",
    "        return -1\n",
    "\n",
    "    s = s.split(separator)\n",
    "    if len(s) == 1:\n",
    "        return float(s[0])\n",
    "    else:\n",
    "        return 1.0-float(s[1]) / float(s[0])\n",
    "\n",
    "# if full-reduction promotion\n",
    "def get_if_fd(s):\n",
    "    s = str(s)\n",
    "    s = s.split(separator)\n",
    "    if len(s) == 1:\n",
    "        return 0\n",
    "    else:\n",
    "        return 1\n",
    "        \n",
    "def get_full_value(s):\n",
    "    s = str(s)\n",
    "    s = s.split(separator)\n",
    "    if len(s) == 1:\n",
    "        return -1\n",
    "    else:\n",
    "        return int(s[0])\n",
    "           \n",
    "def get_reduction_value(s):\n",
    "    s = str(s)\n",
    "    s = s.split(separator)\n",
    "    if len(s) == 1:\n",
    "        return -1\n",
    "    else:\n",
    "        return int(s[1])\n",
    "\n",
    "def get_month(s):\n",
    "    if s[0] == 'null':\n",
    "        return -1\n",
    "    else:    \n",
    "        return int(s[4:6])\n",
    "\n",
    "def get_day(s):\n",
    "    if s[0] == 'null':\n",
    "        return -1\n",
    "    else:    \n",
    "        return int(s[6:8])\n",
    "\n",
    "# days took for customers redeeming the coupon\n",
    "def get_day_gap(s):\n",
    "    s = s.split(separator)\n",
    "    if s[0] == 'null':\n",
    "        return -1\n",
    "    if s[1] == 'null':\n",
    "        return -1\n",
    "    else:    \n",
    "        return (date(int(s[0][0:4]),int(s[0][4:6]),int(s[0][6:8])) - date(int(s[1][0:4]),int(s[1][4:6]),int(s[1][6:8]))).days\n",
    "\n",
    "# customers redeeming a coupon within 15 days of receiving it\n",
    "def get_label(s):\n",
    "    s = s.split(separator)\n",
    "    if s[0] == 'null':\n",
    "        return 0\n",
    "    if s[1] == 'null':\n",
    "        return -1\n",
    "    elif (date(int(s[0][0:4]),int(s[0][4:6]),int(s[0][6:8]))-date(int(s[1][0:4]),int(s[1][4:6]),int(s[1][6:8]))).days<=15:\n",
    "        return 1\n",
    "    else:\n",
    "        return -1"
   ]
  },
  {
   "cell_type": "code",
   "execution_count": 26,
   "id": "3ab6a428",
   "metadata": {},
   "outputs": [],
   "source": [
    "def add_feature(df):\n",
    "    df['if_fd'] = df['discount_rate'].apply(get_if_fd)\n",
    "    df['full_value'] = df['discount_rate'].apply(get_full_value)\n",
    "    df['reduction_value'] = df['discount_rate'].apply(get_reduction_value)\n",
    "    df['discount_rate'] = df['discount_rate'].apply(get_discount_rate)\n",
    "    df['distance'] = df['distance'].replace('null', -1).astype(int)\n",
    "\n",
    "    return df\n",
    "    \n",
    "def add_label(df):\n",
    "    df['day_gap'] = df['date'].astype('str') + ':' +  df['date_received'].astype('str')\n",
    "    df['label'] = df['day_gap'].apply(get_label)\n",
    "    df['day_gap'] = df['day_gap'].apply(get_day_gap)\n",
    "    return df"
   ]
  },
  {
   "cell_type": "code",
   "execution_count": 27,
   "id": "fb95556b",
   "metadata": {},
   "outputs": [],
   "source": [
    "# make copies of data\n",
    "dftrain = off_train.copy()\n",
    "dftest = off_test.copy()"
   ]
  },
  {
   "cell_type": "code",
   "execution_count": 28,
   "id": "52549b6f",
   "metadata": {},
   "outputs": [],
   "source": [
    "dftrain = add_feature(dftrain)\n",
    "dftrain = add_label(dftrain)\n",
    "dftest = add_feature(dftest)"
   ]
  },
  {
   "cell_type": "code",
   "execution_count": 29,
   "id": "e14dd0ca",
   "metadata": {},
   "outputs": [
    {
     "data": {
      "text/html": [
       "<div>\n",
       "<style scoped>\n",
       "    .dataframe tbody tr th:only-of-type {\n",
       "        vertical-align: middle;\n",
       "    }\n",
       "\n",
       "    .dataframe tbody tr th {\n",
       "        vertical-align: top;\n",
       "    }\n",
       "\n",
       "    .dataframe thead th {\n",
       "        text-align: right;\n",
       "    }\n",
       "</style>\n",
       "<table border=\"1\" class=\"dataframe\">\n",
       "  <thead>\n",
       "    <tr style=\"text-align: right;\">\n",
       "      <th></th>\n",
       "      <th>user_id</th>\n",
       "      <th>merchant_id</th>\n",
       "      <th>coupon_id</th>\n",
       "      <th>discount_rate</th>\n",
       "      <th>distance</th>\n",
       "      <th>date_received</th>\n",
       "      <th>date</th>\n",
       "      <th>if_fd</th>\n",
       "      <th>full_value</th>\n",
       "      <th>reduction_value</th>\n",
       "      <th>day_gap</th>\n",
       "      <th>label</th>\n",
       "    </tr>\n",
       "  </thead>\n",
       "  <tbody>\n",
       "    <tr>\n",
       "      <th>0</th>\n",
       "      <td>1439408</td>\n",
       "      <td>2632</td>\n",
       "      <td>null</td>\n",
       "      <td>-1.000000</td>\n",
       "      <td>0</td>\n",
       "      <td>null</td>\n",
       "      <td>20160217</td>\n",
       "      <td>0</td>\n",
       "      <td>-1</td>\n",
       "      <td>-1</td>\n",
       "      <td>-1</td>\n",
       "      <td>-1</td>\n",
       "    </tr>\n",
       "    <tr>\n",
       "      <th>1</th>\n",
       "      <td>1439408</td>\n",
       "      <td>4663</td>\n",
       "      <td>11002</td>\n",
       "      <td>0.866667</td>\n",
       "      <td>1</td>\n",
       "      <td>20160528</td>\n",
       "      <td>null</td>\n",
       "      <td>1</td>\n",
       "      <td>150</td>\n",
       "      <td>20</td>\n",
       "      <td>-1</td>\n",
       "      <td>0</td>\n",
       "    </tr>\n",
       "    <tr>\n",
       "      <th>2</th>\n",
       "      <td>1439408</td>\n",
       "      <td>2632</td>\n",
       "      <td>8591</td>\n",
       "      <td>0.950000</td>\n",
       "      <td>0</td>\n",
       "      <td>20160217</td>\n",
       "      <td>null</td>\n",
       "      <td>1</td>\n",
       "      <td>20</td>\n",
       "      <td>1</td>\n",
       "      <td>-1</td>\n",
       "      <td>0</td>\n",
       "    </tr>\n",
       "    <tr>\n",
       "      <th>3</th>\n",
       "      <td>1439408</td>\n",
       "      <td>2632</td>\n",
       "      <td>1078</td>\n",
       "      <td>0.950000</td>\n",
       "      <td>0</td>\n",
       "      <td>20160319</td>\n",
       "      <td>null</td>\n",
       "      <td>1</td>\n",
       "      <td>20</td>\n",
       "      <td>1</td>\n",
       "      <td>-1</td>\n",
       "      <td>0</td>\n",
       "    </tr>\n",
       "    <tr>\n",
       "      <th>4</th>\n",
       "      <td>1439408</td>\n",
       "      <td>2632</td>\n",
       "      <td>8591</td>\n",
       "      <td>0.950000</td>\n",
       "      <td>0</td>\n",
       "      <td>20160613</td>\n",
       "      <td>null</td>\n",
       "      <td>1</td>\n",
       "      <td>20</td>\n",
       "      <td>1</td>\n",
       "      <td>-1</td>\n",
       "      <td>0</td>\n",
       "    </tr>\n",
       "  </tbody>\n",
       "</table>\n",
       "</div>"
      ],
      "text/plain": [
       "   user_id merchant_id coupon_id  discount_rate  distance date_received  \\\n",
       "0  1439408        2632      null      -1.000000         0          null   \n",
       "1  1439408        4663     11002       0.866667         1      20160528   \n",
       "2  1439408        2632      8591       0.950000         0      20160217   \n",
       "3  1439408        2632      1078       0.950000         0      20160319   \n",
       "4  1439408        2632      8591       0.950000         0      20160613   \n",
       "\n",
       "       date  if_fd  full_value  reduction_value  day_gap  label  \n",
       "0  20160217      0          -1               -1       -1     -1  \n",
       "1      null      1         150               20       -1      0  \n",
       "2      null      1          20                1       -1      0  \n",
       "3      null      1          20                1       -1      0  \n",
       "4      null      1          20                1       -1      0  "
      ]
     },
     "execution_count": 29,
     "metadata": {},
     "output_type": "execute_result"
    }
   ],
   "source": [
    "dftrain.head()"
   ]
  },
  {
   "cell_type": "code",
   "execution_count": 30,
   "id": "4ca7e80f",
   "metadata": {},
   "outputs": [
    {
     "data": {
      "text/html": [
       "<div>\n",
       "<style scoped>\n",
       "    .dataframe tbody tr th:only-of-type {\n",
       "        vertical-align: middle;\n",
       "    }\n",
       "\n",
       "    .dataframe tbody tr th {\n",
       "        vertical-align: top;\n",
       "    }\n",
       "\n",
       "    .dataframe thead th {\n",
       "        text-align: right;\n",
       "    }\n",
       "</style>\n",
       "<table border=\"1\" class=\"dataframe\">\n",
       "  <thead>\n",
       "    <tr style=\"text-align: right;\">\n",
       "      <th></th>\n",
       "      <th>discount_rate</th>\n",
       "      <th>distance</th>\n",
       "      <th>if_fd</th>\n",
       "      <th>full_value</th>\n",
       "      <th>reduction_value</th>\n",
       "      <th>day_gap</th>\n",
       "      <th>label</th>\n",
       "    </tr>\n",
       "  </thead>\n",
       "  <tbody>\n",
       "    <tr>\n",
       "      <th>count</th>\n",
       "      <td>1.754884e+06</td>\n",
       "      <td>1.754884e+06</td>\n",
       "      <td>1.754884e+06</td>\n",
       "      <td>1.754884e+06</td>\n",
       "      <td>1.754884e+06</td>\n",
       "      <td>1.754884e+06</td>\n",
       "      <td>1.754884e+06</td>\n",
       "    </tr>\n",
       "    <tr>\n",
       "      <th>mean</th>\n",
       "      <td>1.069696e-01</td>\n",
       "      <td>2.158577e+00</td>\n",
       "      <td>5.812407e-01</td>\n",
       "      <td>4.665974e+01</td>\n",
       "      <td>5.807668e+00</td>\n",
       "      <td>-6.212582e-01</td>\n",
       "      <td>-3.693657e-01</td>\n",
       "    </tr>\n",
       "    <tr>\n",
       "      <th>std</th>\n",
       "      <td>9.061683e-01</td>\n",
       "      <td>3.470772e+00</td>\n",
       "      <td>4.933559e-01</td>\n",
       "      <td>6.830349e+01</td>\n",
       "      <td>9.037305e+00</td>\n",
       "      <td>2.414021e+00</td>\n",
       "      <td>5.534657e-01</td>\n",
       "    </tr>\n",
       "    <tr>\n",
       "      <th>min</th>\n",
       "      <td>-1.000000e+00</td>\n",
       "      <td>-1.000000e+00</td>\n",
       "      <td>0.000000e+00</td>\n",
       "      <td>-1.000000e+00</td>\n",
       "      <td>-1.000000e+00</td>\n",
       "      <td>-1.000000e+00</td>\n",
       "      <td>-1.000000e+00</td>\n",
       "    </tr>\n",
       "    <tr>\n",
       "      <th>25%</th>\n",
       "      <td>-1.000000e+00</td>\n",
       "      <td>0.000000e+00</td>\n",
       "      <td>0.000000e+00</td>\n",
       "      <td>-1.000000e+00</td>\n",
       "      <td>-1.000000e+00</td>\n",
       "      <td>-1.000000e+00</td>\n",
       "      <td>-1.000000e+00</td>\n",
       "    </tr>\n",
       "    <tr>\n",
       "      <th>50%</th>\n",
       "      <td>7.500000e-01</td>\n",
       "      <td>0.000000e+00</td>\n",
       "      <td>1.000000e+00</td>\n",
       "      <td>2.000000e+01</td>\n",
       "      <td>5.000000e+00</td>\n",
       "      <td>-1.000000e+00</td>\n",
       "      <td>0.000000e+00</td>\n",
       "    </tr>\n",
       "    <tr>\n",
       "      <th>75%</th>\n",
       "      <td>9.000000e-01</td>\n",
       "      <td>3.000000e+00</td>\n",
       "      <td>1.000000e+00</td>\n",
       "      <td>1.000000e+02</td>\n",
       "      <td>1.000000e+01</td>\n",
       "      <td>-1.000000e+00</td>\n",
       "      <td>0.000000e+00</td>\n",
       "    </tr>\n",
       "    <tr>\n",
       "      <th>max</th>\n",
       "      <td>9.900000e-01</td>\n",
       "      <td>1.000000e+01</td>\n",
       "      <td>1.000000e+00</td>\n",
       "      <td>3.000000e+02</td>\n",
       "      <td>1.000000e+02</td>\n",
       "      <td>9.600000e+01</td>\n",
       "      <td>1.000000e+00</td>\n",
       "    </tr>\n",
       "  </tbody>\n",
       "</table>\n",
       "</div>"
      ],
      "text/plain": [
       "       discount_rate      distance         if_fd    full_value  \\\n",
       "count   1.754884e+06  1.754884e+06  1.754884e+06  1.754884e+06   \n",
       "mean    1.069696e-01  2.158577e+00  5.812407e-01  4.665974e+01   \n",
       "std     9.061683e-01  3.470772e+00  4.933559e-01  6.830349e+01   \n",
       "min    -1.000000e+00 -1.000000e+00  0.000000e+00 -1.000000e+00   \n",
       "25%    -1.000000e+00  0.000000e+00  0.000000e+00 -1.000000e+00   \n",
       "50%     7.500000e-01  0.000000e+00  1.000000e+00  2.000000e+01   \n",
       "75%     9.000000e-01  3.000000e+00  1.000000e+00  1.000000e+02   \n",
       "max     9.900000e-01  1.000000e+01  1.000000e+00  3.000000e+02   \n",
       "\n",
       "       reduction_value       day_gap         label  \n",
       "count     1.754884e+06  1.754884e+06  1.754884e+06  \n",
       "mean      5.807668e+00 -6.212582e-01 -3.693657e-01  \n",
       "std       9.037305e+00  2.414021e+00  5.534657e-01  \n",
       "min      -1.000000e+00 -1.000000e+00 -1.000000e+00  \n",
       "25%      -1.000000e+00 -1.000000e+00 -1.000000e+00  \n",
       "50%       5.000000e+00 -1.000000e+00  0.000000e+00  \n",
       "75%       1.000000e+01 -1.000000e+00  0.000000e+00  \n",
       "max       1.000000e+02  9.600000e+01  1.000000e+00  "
      ]
     },
     "execution_count": 30,
     "metadata": {},
     "output_type": "execute_result"
    }
   ],
   "source": [
    "dftrain.describe()"
   ]
  },
  {
   "cell_type": "code",
   "execution_count": 31,
   "id": "e8f1d1d1",
   "metadata": {},
   "outputs": [
    {
     "data": {
      "image/png": "[encoded data removed]",
      "text/plain": [
       "<Figure size 432x288 with 1 Axes>"
      ]
     },
     "metadata": {
      "needs_background": "light"
     },
     "output_type": "display_data"
    }
   ],
   "source": [
    "serie_dayGap = dftrain[dftrain.day_gap >= 0][\"day_gap\"].value_counts()/dftrain[dftrain.day_gap >= 0][\"day_gap\"].count()\n",
    "\n",
    "plt.plot(serie_dayGap.index, serie_dayGap.values, linestyle=\"None\", marker = \"*\", color = \"r\")\n",
    "plt.xlabel(\"Day gap\")\n",
    "plt.ylabel(\"Ratio\")\n",
    "plt.show()"
   ]
  },
  {
   "cell_type": "code",
   "execution_count": 32,
   "id": "3b612b44",
   "metadata": {},
   "outputs": [
    {
     "data": {
      "image/png": "[encoded data removed]",
      "text/plain": [
       "<Figure size 432x288 with 1 Axes>"
      ]
     },
     "metadata": {
      "needs_background": "light"
     },
     "output_type": "display_data"
    }
   ],
   "source": [
    "serie_discount = dftrain[dftrain.discount_rate >= 0]['discount_rate'].value_counts()/dftrain[dftrain.discount_rate >= 0]['discount_rate'].count()\n",
    "\n",
    "plt.plot(serie_discount.index, serie_discount.values, linestyle=\"None\", marker = \"*\", color = \"r\")\n",
    "plt.xlabel(\"Discount_rate\")\n",
    "plt.ylabel(\"Ratio\")\n",
    "plt.show()"
   ]
  },
  {
   "cell_type": "code",
   "execution_count": 33,
   "id": "8f901b2c",
   "metadata": {},
   "outputs": [
    {
     "data": {
      "image/png": "[encoded data removed]",
      "text/plain": [
       "<Figure size 432x288 with 1 Axes>"
      ]
     },
     "metadata": {
      "needs_background": "light"
     },
     "output_type": "display_data"
    }
   ],
   "source": [
    "serie_reduction = dftrain[dftrain.reduction_value>0]['reduction_value'].value_counts()/dftrain[dftrain.reduction_value>0]['reduction_value'].count()\n",
    "\n",
    "plt.plot(serie_reduction.index, serie_reduction.values, linestyle=\"None\", marker = \"*\", color = \"r\")\n",
    "plt.xlabel(\"Reduction_value\")\n",
    "plt.ylabel(\"Ratio\")\n",
    "plt.show()"
   ]
  },
  {
   "cell_type": "code",
   "execution_count": 34,
   "id": "ceab2832",
   "metadata": {},
   "outputs": [
    {
     "data": {
      "image/png": "[encoded data removed]",
      "text/plain": [
       "<Figure size 432x288 with 1 Axes>"
      ]
     },
     "metadata": {
      "needs_background": "light"
     },
     "output_type": "display_data"
    }
   ],
   "source": [
    "serie_full = dftrain[dftrain.full_value>0]['full_value'].value_counts()/dftrain[dftrain.full_value>0]['full_value'].count()\n",
    "\n",
    "plt.plot(serie_full.index, serie_full.values, linestyle=\"None\", marker = \"*\", color = \"r\")\n",
    "plt.xlabel(\"Full value\")\n",
    "plt.ylabel(\"Ratio\")\n",
    "plt.show()"
   ]
  },
  {
   "cell_type": "code",
   "execution_count": 35,
   "id": "250d289b",
   "metadata": {},
   "outputs": [
    {
     "data": {
      "text/plain": [
       "1    1020010\n",
       "0     734874\n",
       "Name: if_fd, dtype: int64"
      ]
     },
     "execution_count": 35,
     "metadata": {},
     "output_type": "execute_result"
    }
   ],
   "source": [
    "dftrain['if_fd'].value_counts()"
   ]
  },
  {
   "cell_type": "code",
   "execution_count": 36,
   "id": "c6fa03d0",
   "metadata": {},
   "outputs": [
    {
     "data": {
      "text/plain": [
       " 0    0.557245\n",
       "-1    0.406060\n",
       " 1    0.036695\n",
       "Name: label, dtype: float64"
      ]
     },
     "execution_count": 36,
     "metadata": {},
     "output_type": "execute_result"
    }
   ],
   "source": [
    "dftrain['label'].value_counts()/dftrain['label'].count()"
   ]
  },
  {
   "cell_type": "markdown",
   "id": "a940268b",
   "metadata": {},
   "source": [
    "0.036695 positive label"
   ]
  },
  {
   "cell_type": "code",
   "execution_count": 37,
   "id": "921098d1",
   "metadata": {},
   "outputs": [
    {
     "data": {
      "text/html": [
       "<div>\n",
       "<style scoped>\n",
       "    .dataframe tbody tr th:only-of-type {\n",
       "        vertical-align: middle;\n",
       "    }\n",
       "\n",
       "    .dataframe tbody tr th {\n",
       "        vertical-align: top;\n",
       "    }\n",
       "\n",
       "    .dataframe thead th {\n",
       "        text-align: right;\n",
       "    }\n",
       "</style>\n",
       "<table border=\"1\" class=\"dataframe\">\n",
       "  <thead>\n",
       "    <tr style=\"text-align: right;\">\n",
       "      <th></th>\n",
       "      <th>user_id</th>\n",
       "      <th>merchant_id</th>\n",
       "      <th>coupon_id</th>\n",
       "      <th>discount_rate</th>\n",
       "      <th>distance</th>\n",
       "      <th>date_received</th>\n",
       "      <th>if_fd</th>\n",
       "      <th>full_value</th>\n",
       "      <th>reduction_value</th>\n",
       "    </tr>\n",
       "  </thead>\n",
       "  <tbody>\n",
       "    <tr>\n",
       "      <th>0</th>\n",
       "      <td>4129537</td>\n",
       "      <td>450</td>\n",
       "      <td>9983</td>\n",
       "      <td>0.833333</td>\n",
       "      <td>1</td>\n",
       "      <td>20160712</td>\n",
       "      <td>1</td>\n",
       "      <td>30</td>\n",
       "      <td>5</td>\n",
       "    </tr>\n",
       "    <tr>\n",
       "      <th>1</th>\n",
       "      <td>6949378</td>\n",
       "      <td>1300</td>\n",
       "      <td>3429</td>\n",
       "      <td>0.833333</td>\n",
       "      <td>-1</td>\n",
       "      <td>20160706</td>\n",
       "      <td>1</td>\n",
       "      <td>30</td>\n",
       "      <td>5</td>\n",
       "    </tr>\n",
       "    <tr>\n",
       "      <th>2</th>\n",
       "      <td>2166529</td>\n",
       "      <td>7113</td>\n",
       "      <td>6928</td>\n",
       "      <td>0.900000</td>\n",
       "      <td>5</td>\n",
       "      <td>20160727</td>\n",
       "      <td>1</td>\n",
       "      <td>200</td>\n",
       "      <td>20</td>\n",
       "    </tr>\n",
       "    <tr>\n",
       "      <th>3</th>\n",
       "      <td>2166529</td>\n",
       "      <td>7113</td>\n",
       "      <td>1808</td>\n",
       "      <td>0.900000</td>\n",
       "      <td>5</td>\n",
       "      <td>20160727</td>\n",
       "      <td>1</td>\n",
       "      <td>100</td>\n",
       "      <td>10</td>\n",
       "    </tr>\n",
       "    <tr>\n",
       "      <th>4</th>\n",
       "      <td>6172162</td>\n",
       "      <td>7605</td>\n",
       "      <td>6500</td>\n",
       "      <td>0.966667</td>\n",
       "      <td>2</td>\n",
       "      <td>20160708</td>\n",
       "      <td>1</td>\n",
       "      <td>30</td>\n",
       "      <td>1</td>\n",
       "    </tr>\n",
       "  </tbody>\n",
       "</table>\n",
       "</div>"
      ],
      "text/plain": [
       "   user_id merchant_id coupon_id  discount_rate  distance  date_received  \\\n",
       "0  4129537         450      9983       0.833333         1       20160712   \n",
       "1  6949378        1300      3429       0.833333        -1       20160706   \n",
       "2  2166529        7113      6928       0.900000         5       20160727   \n",
       "3  2166529        7113      1808       0.900000         5       20160727   \n",
       "4  6172162        7605      6500       0.966667         2       20160708   \n",
       "\n",
       "   if_fd  full_value  reduction_value  \n",
       "0      1          30                5  \n",
       "1      1          30                5  \n",
       "2      1         200               20  \n",
       "3      1         100               10  \n",
       "4      1          30                1  "
      ]
     },
     "execution_count": 37,
     "metadata": {},
     "output_type": "execute_result"
    }
   ],
   "source": [
    "dftest.head()"
   ]
  },
  {
   "cell_type": "code",
   "execution_count": 38,
   "id": "fc9acda3",
   "metadata": {},
   "outputs": [
    {
     "data": {
      "text/html": [
       "<div>\n",
       "<style scoped>\n",
       "    .dataframe tbody tr th:only-of-type {\n",
       "        vertical-align: middle;\n",
       "    }\n",
       "\n",
       "    .dataframe tbody tr th {\n",
       "        vertical-align: top;\n",
       "    }\n",
       "\n",
       "    .dataframe thead th {\n",
       "        text-align: right;\n",
       "    }\n",
       "</style>\n",
       "<table border=\"1\" class=\"dataframe\">\n",
       "  <thead>\n",
       "    <tr style=\"text-align: right;\">\n",
       "      <th></th>\n",
       "      <th>discount_rate</th>\n",
       "      <th>distance</th>\n",
       "      <th>date_received</th>\n",
       "      <th>if_fd</th>\n",
       "      <th>full_value</th>\n",
       "      <th>reduction_value</th>\n",
       "    </tr>\n",
       "  </thead>\n",
       "  <tbody>\n",
       "    <tr>\n",
       "      <th>count</th>\n",
       "      <td>113640.000000</td>\n",
       "      <td>113640.000000</td>\n",
       "      <td>1.136400e+05</td>\n",
       "      <td>113640.000000</td>\n",
       "      <td>113640.000000</td>\n",
       "      <td>113640.000000</td>\n",
       "    </tr>\n",
       "    <tr>\n",
       "      <th>mean</th>\n",
       "      <td>0.850671</td>\n",
       "      <td>1.974736</td>\n",
       "      <td>2.016072e+07</td>\n",
       "      <td>0.977420</td>\n",
       "      <td>43.396507</td>\n",
       "      <td>6.089141</td>\n",
       "    </tr>\n",
       "    <tr>\n",
       "      <th>std</th>\n",
       "      <td>0.063551</td>\n",
       "      <td>3.248809</td>\n",
       "      <td>9.019508e+00</td>\n",
       "      <td>0.148561</td>\n",
       "      <td>44.239815</td>\n",
       "      <td>5.640310</td>\n",
       "    </tr>\n",
       "    <tr>\n",
       "      <th>min</th>\n",
       "      <td>0.333333</td>\n",
       "      <td>-1.000000</td>\n",
       "      <td>2.016070e+07</td>\n",
       "      <td>0.000000</td>\n",
       "      <td>-1.000000</td>\n",
       "      <td>-1.000000</td>\n",
       "    </tr>\n",
       "    <tr>\n",
       "      <th>25%</th>\n",
       "      <td>0.833333</td>\n",
       "      <td>0.000000</td>\n",
       "      <td>2.016071e+07</td>\n",
       "      <td>1.000000</td>\n",
       "      <td>30.000000</td>\n",
       "      <td>5.000000</td>\n",
       "    </tr>\n",
       "    <tr>\n",
       "      <th>50%</th>\n",
       "      <td>0.833333</td>\n",
       "      <td>1.000000</td>\n",
       "      <td>2.016072e+07</td>\n",
       "      <td>1.000000</td>\n",
       "      <td>30.000000</td>\n",
       "      <td>5.000000</td>\n",
       "    </tr>\n",
       "    <tr>\n",
       "      <th>75%</th>\n",
       "      <td>0.900000</td>\n",
       "      <td>3.000000</td>\n",
       "      <td>2.016072e+07</td>\n",
       "      <td>1.000000</td>\n",
       "      <td>30.000000</td>\n",
       "      <td>5.000000</td>\n",
       "    </tr>\n",
       "    <tr>\n",
       "      <th>max</th>\n",
       "      <td>0.990000</td>\n",
       "      <td>10.000000</td>\n",
       "      <td>2.016073e+07</td>\n",
       "      <td>1.000000</td>\n",
       "      <td>500.000000</td>\n",
       "      <td>100.000000</td>\n",
       "    </tr>\n",
       "  </tbody>\n",
       "</table>\n",
       "</div>"
      ],
      "text/plain": [
       "       discount_rate       distance  date_received          if_fd  \\\n",
       "count  113640.000000  113640.000000   1.136400e+05  113640.000000   \n",
       "mean        0.850671       1.974736   2.016072e+07       0.977420   \n",
       "std         0.063551       3.248809   9.019508e+00       0.148561   \n",
       "min         0.333333      -1.000000   2.016070e+07       0.000000   \n",
       "25%         0.833333       0.000000   2.016071e+07       1.000000   \n",
       "50%         0.833333       1.000000   2.016072e+07       1.000000   \n",
       "75%         0.900000       3.000000   2.016072e+07       1.000000   \n",
       "max         0.990000      10.000000   2.016073e+07       1.000000   \n",
       "\n",
       "          full_value  reduction_value  \n",
       "count  113640.000000    113640.000000  \n",
       "mean       43.396507         6.089141  \n",
       "std        44.239815         5.640310  \n",
       "min        -1.000000        -1.000000  \n",
       "25%        30.000000         5.000000  \n",
       "50%        30.000000         5.000000  \n",
       "75%        30.000000         5.000000  \n",
       "max       500.000000       100.000000  "
      ]
     },
     "execution_count": 38,
     "metadata": {},
     "output_type": "execute_result"
    }
   ],
   "source": [
    "dftest.describe()"
   ]
  },
  {
   "cell_type": "code",
   "execution_count": 39,
   "id": "367249a2",
   "metadata": {},
   "outputs": [
    {
     "data": {
      "image/png": "[encoded data removed]",
      "text/plain": [
       "<Figure size 432x288 with 1 Axes>"
      ]
     },
     "metadata": {
      "needs_background": "light"
     },
     "output_type": "display_data"
    }
   ],
   "source": [
    "serie_train = dftrain[dftrain.distance >= 0]['distance'].value_counts()/dftrain[dftrain.distance >= 0]['distance'].count()\n",
    "\n",
    "plt.plot(serie_train.index, serie_train.values, linestyle=\"None\", marker = \"*\", color = \"r\")\n",
    "plt.xlabel(\"Distance_train\")\n",
    "plt.ylabel(\"Ratio\")\n",
    "plt.show()"
   ]
  },
  {
   "cell_type": "code",
   "execution_count": 40,
   "id": "123f1a28",
   "metadata": {},
   "outputs": [
    {
     "data": {
      "image/png": "[encoded data removed]",
      "text/plain": [
       "<Figure size 432x288 with 1 Axes>"
      ]
     },
     "metadata": {
      "needs_background": "light"
     },
     "output_type": "display_data"
    }
   ],
   "source": [
    "serie_test = dftest[dftest.distance >= 0]['distance'].value_counts()/dftest[dftest.distance >= 0]['distance'].count()\n",
    "\n",
    "plt.plot(serie_test.index, serie_test.values, linestyle=\"None\", marker = \"*\", color = \"r\")\n",
    "plt.xlabel(\"Distance_test\")\n",
    "plt.ylabel(\"Ratio\")\n",
    "plt.show()"
   ]
  },
  {
   "cell_type": "code",
   "execution_count": 41,
   "id": "20e8385f",
   "metadata": {},
   "outputs": [
    {
     "data": {
      "image/png": "[encoded data removed]",
      "text/plain": [
       "<Figure size 432x288 with 1 Axes>"
      ]
     },
     "metadata": {
      "needs_background": "light"
     },
     "output_type": "display_data"
    }
   ],
   "source": [
    "# positive labels\n",
    "serie_train_label = dftrain[(dftrain.label >= 0)&(dftrain.distance >= 0)]['distance'].value_counts()/dftrain[(dftrain.label >= 0)&(dftrain.distance >= 0)]['distance'].count()\n",
    "\n",
    "plt.plot(serie_train_label.index, serie_train_label.values, linestyle=\"None\", marker = \"*\", color = \"r\")\n",
    "plt.xlabel(\"Distance_train\")\n",
    "plt.ylabel(\"Ratio\")\n",
    "plt.show()"
   ]
  },
  {
   "cell_type": "code",
   "execution_count": 42,
   "id": "6855cacc",
   "metadata": {},
   "outputs": [
    {
     "name": "stdout",
     "output_type": "stream",
     "text": [
      "Offline training set, ratio of full reduction promotion\n"
     ]
    },
    {
     "data": {
      "text/plain": [
       "1    0.581241\n",
       "0    0.418759\n",
       "Name: if_fd, dtype: float64"
      ]
     },
     "execution_count": 42,
     "metadata": {},
     "output_type": "execute_result"
    }
   ],
   "source": [
    "print ('Offline training set, ratio of full reduction promotion')\n",
    "dftrain.if_fd.value_counts() / dftrain.if_fd.count()"
   ]
  },
  {
   "cell_type": "code",
   "execution_count": 43,
   "id": "35bd89a3",
   "metadata": {},
   "outputs": [
    {
     "name": "stdout",
     "output_type": "stream",
     "text": [
      "Testing set, ratio of full reduction promotion\n"
     ]
    },
    {
     "data": {
      "text/plain": [
       "1    0.97742\n",
       "0    0.02258\n",
       "Name: if_fd, dtype: float64"
      ]
     },
     "execution_count": 43,
     "metadata": {},
     "output_type": "execute_result"
    }
   ],
   "source": [
    "print ('Testing set, ratio of full reduction promotion')\n",
    "dftest.if_fd.value_counts() / dftest.if_fd.count()"
   ]
  },
  {
   "cell_type": "code",
   "execution_count": null,
   "id": "5e3af224",
   "metadata": {},
   "outputs": [],
   "source": []
  },
  {
   "cell_type": "code",
   "execution_count": null,
   "id": "8846fe3f",
   "metadata": {},
   "outputs": [],
   "source": []
  }
 ],
 "metadata": {
  "kernelspec": {
   "display_name": "Python 3",
   "language": "python",
   "name": "python3"
  },
  "language_info": {
   "codemirror_mode": {
    "name": "ipython",
    "version": 3
   },
   "file_extension": ".py",
   "mimetype": "text/x-python",
   "name": "python",
   "nbconvert_exporter": "python",
   "pygments_lexer": "ipython3",
   "version": "3.8.8"
  }
 },
 "nbformat": 4,
 "nbformat_minor": 5
}
